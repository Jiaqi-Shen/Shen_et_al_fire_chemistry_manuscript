{
 "cells": [
  {
   "cell_type": "code",
   "execution_count": 1,
   "id": "08300a59-e672-40a4-aa8f-81919407f2b0",
   "metadata": {
    "jupyter": {
     "source_hidden": true
    }
   },
   "outputs": [],
   "source": [
    "import sys\n",
    "import datetime\n",
    "import time\n",
    "from datetime import timedelta, date, datetime\n",
    "from dateutil.relativedelta import relativedelta\n",
    "import os\n",
    "import urllib\n",
    "import tarfile\n",
    "import xarray as xr\n",
    "import numpy as np\n",
    "import pandas as pd\n",
    "\n",
    "import matplotlib.pyplot as plt\n",
    "import seaborn as sns\n",
    "%matplotlib inline\n",
    "\n",
    "from math import sin, cos, sqrt, atan2, radians\n",
    "\n",
    "import glob\n",
    "\n",
    "from scipy import stats\n",
    "\n",
    "import warnings\n",
    "warnings.filterwarnings(\"ignore\")\n",
    "\n",
    "import geopandas as gpd\n",
    "\n",
    "import cartopy\n",
    "import cartopy.crs as ccrs\n",
    "import cartopy.feature as cfeature\n",
    "\n",
    "from netCDF4 import Dataset\n",
    "from mpl_toolkits.basemap import Basemap\n",
    "from matplotlib import cm\n",
    "import haversine as hs\n",
    "from shapely.geometry import MultiPoint, Point\n",
    "\n",
    "from matplotlib.animation import FuncAnimation"
   ]
  },
  {
   "cell_type": "code",
   "execution_count": 2,
   "id": "e7604408-2c4f-49c0-aa92-15212e09b00c",
   "metadata": {
    "scrolled": true
   },
   "outputs": [
    {
     "name": "stdout",
     "output_type": "stream",
     "text": [
      "Total # of ROx species is 34.\n"
     ]
    },
    {
     "data": {
      "text/plain": [
       "['A3O2',\n",
       " 'ATO2',\n",
       " 'B3O2',\n",
       " 'BRO2',\n",
       " 'DHPCARP',\n",
       " 'DIBOO',\n",
       " 'ETO2',\n",
       " 'HC5OO',\n",
       " 'HO2',\n",
       " 'HPC52O2',\n",
       " 'IEPOXOO',\n",
       " 'INO2',\n",
       " 'ISNOOA',\n",
       " 'ISNOOB',\n",
       " 'ISNOHOO',\n",
       " 'ISOPNBO2',\n",
       " 'ISOPNDO2',\n",
       " 'KO2',\n",
       " 'LIMO2',\n",
       " 'MAOPO2',\n",
       " 'MO2',\n",
       " 'MOBAOO',\n",
       " 'MRO2',\n",
       " 'OH',\n",
       " 'OTHRO2',\n",
       " 'PIO2',\n",
       " 'PO2',\n",
       " 'PRN1',\n",
       " 'R4N1',\n",
       " 'R4O2',\n",
       " 'RIO2',\n",
       " 'TRO2',\n",
       " 'VRO2',\n",
       " 'XRO2']"
      ]
     },
     "execution_count": 2,
     "metadata": {},
     "output_type": "execute_result"
    }
   ],
   "source": [
    "ROx = pd.read_excel('../data_input/ROx_GCv12.xlsx', sheet_name='031924_ROx_list', header=None)\n",
    "ROx = ROx.iloc[:, 0].tolist()\n",
    "print(f'Total # of ROx species is {len(ROx)}.')\n",
    "sorted(ROx)\n",
    "ROx"
   ]
  },
  {
   "cell_type": "code",
   "execution_count": 3,
   "id": "1f6b134e-b4c1-4074-a2e4-e5ccdce6084e",
   "metadata": {},
   "outputs": [],
   "source": [
    "file = open(\"/projectsp/f_xj103_1/jqshen/Code.12.7.1.PHCHO_Original/KPP/Tropchem/gckpp_Monitor.F90\",\"r\")\n",
    "lines = file.readlines()"
   ]
  },
  {
   "cell_type": "code",
   "execution_count": 4,
   "id": "344b7329-0f13-4335-ac0c-93f57fc1b707",
   "metadata": {},
   "outputs": [
    {
     "name": "stdout",
     "output_type": "stream",
     "text": [
      "RXN index:  ['6', '7', '8', '11', '17', '18', '19', '75', '78', '79', '83', '84', '85', '101', '102', '103', '104', '105', '106', '107', '108', '109', '111', '112', '113', '115', '116', '118', '119', 'EQN_NAMES_4 ', '121', '122', '123', '124', '125', '126', '128', '129', '130', '133', '134', '135', '136', '137', '138', '139', '140', '195', '205', '206', '207', '364', '368', '370', '381', '385', '433', '435', '437', '442', '443', '454', '455', '484', '485'] \n",
      "\n",
      "line #:  [123, 124, 125, 128, 134, 135, 136, 194, 197, 198, 202, 203, 204, 221, 222, 223, 224, 225, 226, 227, 228, 229, 231, 232, 233, 235, 236, 238, 239, 240, 242, 243, 244, 245, 246, 247, 249, 250, 251, 254, 255, 256, 257, 258, 259, 260, 261, 318, 328, 329, 330, 493, 497, 499, 510, 514, 564, 566, 568, 573, 574, 586, 587, 617, 618]\n"
     ]
    }
   ],
   "source": [
    "idx_list = []\n",
    "line_list = []\n",
    "diag = []\n",
    "ROx_eq_num = []\n",
    "i = 118\n",
    "while i < 823:\n",
    "    line = lines[i]\n",
    "    line = line.replace('\"', '')\n",
    "    line = line.replace(\"'\", '') \n",
    "    if '-->' in line:\n",
    "        spec, _ = line.split('-->')\n",
    "        select = 0\n",
    "        if '+' in spec:\n",
    "            spec_left, spec_right = spec.split('+')\n",
    "            spec_left = spec_left.strip()\n",
    "            spec_right = spec_right.strip()\n",
    "            if (spec_left in ROx) & (spec_right in ROx):\n",
    "                select = 1\n",
    "        elif ' 2 ' in spec:\n",
    "            _, speci = spec.split(' 2')\n",
    "            speci = speci.strip()\n",
    "            if speci in ROx:\n",
    "                select = 1\n",
    "        if select:    \n",
    "            if '& ! index' in line:\n",
    "                _, idx = line.split('& ! index')\n",
    "                idx = idx.strip()\n",
    "                idx_list.append(idx)\n",
    "                line_list.append(i)\n",
    "                ROx_eq_num.append(f\"RxnRate_EQ{int(idx):03d}\")\n",
    "                diag.append(f\"'RxnRate_EQ{int(idx):03d}                           ', 'GIGCchem',\")\n",
    "            else:\n",
    "                i += 1\n",
    "                idx = lines[i].split(':: ')[1][:-7]\n",
    "                idx_list.append(idx)\n",
    "                line_list.append(i-1)\n",
    "                ROx_eq_num.append(f\"RxnRate_EQ{idx}\")\n",
    "                diag.append(f\"'RxnRate_EQ{idx}                           ', 'GIGCchem',\")\n",
    "    i += 1\n",
    "print('RXN index: ', idx_list, '\\n\\nline #: ', line_list)"
   ]
  },
  {
   "cell_type": "code",
   "execution_count": 5,
   "id": "2c733b4c-4862-4b6a-bbd8-dd1dbc9a2cbf",
   "metadata": {
    "scrolled": true
   },
   "outputs": [
    {
     "data": {
      "text/plain": [
       "['RxnRate_EQ006',\n",
       " 'RxnRate_EQ007',\n",
       " 'RxnRate_EQ008',\n",
       " 'RxnRate_EQ011',\n",
       " 'RxnRate_EQ017',\n",
       " 'RxnRate_EQ018',\n",
       " 'RxnRate_EQ019',\n",
       " 'RxnRate_EQ075',\n",
       " 'RxnRate_EQ078',\n",
       " 'RxnRate_EQ079',\n",
       " 'RxnRate_EQ083',\n",
       " 'RxnRate_EQ084',\n",
       " 'RxnRate_EQ085',\n",
       " 'RxnRate_EQ101',\n",
       " 'RxnRate_EQ102',\n",
       " 'RxnRate_EQ103',\n",
       " 'RxnRate_EQ104',\n",
       " 'RxnRate_EQ105',\n",
       " 'RxnRate_EQ106',\n",
       " 'RxnRate_EQ107',\n",
       " 'RxnRate_EQ108',\n",
       " 'RxnRate_EQ109',\n",
       " 'RxnRate_EQ111',\n",
       " 'RxnRate_EQ112',\n",
       " 'RxnRate_EQ113',\n",
       " 'RxnRate_EQ115',\n",
       " 'RxnRate_EQ116',\n",
       " 'RxnRate_EQ118',\n",
       " 'RxnRate_EQ119',\n",
       " 'RxnRate_EQ120',\n",
       " 'RxnRate_EQ121',\n",
       " 'RxnRate_EQ122',\n",
       " 'RxnRate_EQ123',\n",
       " 'RxnRate_EQ124',\n",
       " 'RxnRate_EQ125',\n",
       " 'RxnRate_EQ126',\n",
       " 'RxnRate_EQ128',\n",
       " 'RxnRate_EQ129',\n",
       " 'RxnRate_EQ130',\n",
       " 'RxnRate_EQ133',\n",
       " 'RxnRate_EQ134',\n",
       " 'RxnRate_EQ135',\n",
       " 'RxnRate_EQ136',\n",
       " 'RxnRate_EQ137',\n",
       " 'RxnRate_EQ138',\n",
       " 'RxnRate_EQ139',\n",
       " 'RxnRate_EQ140',\n",
       " 'RxnRate_EQ195',\n",
       " 'RxnRate_EQ205',\n",
       " 'RxnRate_EQ206',\n",
       " 'RxnRate_EQ207',\n",
       " 'RxnRate_EQ364',\n",
       " 'RxnRate_EQ368',\n",
       " 'RxnRate_EQ370',\n",
       " 'RxnRate_EQ381',\n",
       " 'RxnRate_EQ385',\n",
       " 'RxnRate_EQ433',\n",
       " 'RxnRate_EQ435',\n",
       " 'RxnRate_EQ437',\n",
       " 'RxnRate_EQ442',\n",
       " 'RxnRate_EQ443',\n",
       " 'RxnRate_EQ454',\n",
       " 'RxnRate_EQ455',\n",
       " 'RxnRate_EQ484',\n",
       " 'RxnRate_EQ485']"
      ]
     },
     "execution_count": 5,
     "metadata": {},
     "output_type": "execute_result"
    }
   ],
   "source": [
    "ROx_eq_num = ['RxnRate_EQ120' if x == 'RxnRate_EQEQN_NAMES_4 ' else x for x in ROx_eq_num]\n",
    "ROx_eq_num"
   ]
  },
  {
   "cell_type": "code",
   "execution_count": 6,
   "id": "a68c21d7-9c33-43a6-abee-0464631a7e2f",
   "metadata": {
    "scrolled": true
   },
   "outputs": [
    {
     "name": "stdout",
     "output_type": "stream",
     "text": [
      "'RxnRate_EQ006                           ', 'GIGCchem',\n",
      "'RxnRate_EQ007                           ', 'GIGCchem',\n",
      "'RxnRate_EQ008                           ', 'GIGCchem',\n",
      "'RxnRate_EQ011                           ', 'GIGCchem',\n",
      "'RxnRate_EQ017                           ', 'GIGCchem',\n",
      "'RxnRate_EQ018                           ', 'GIGCchem',\n",
      "'RxnRate_EQ019                           ', 'GIGCchem',\n",
      "'RxnRate_EQ075                           ', 'GIGCchem',\n",
      "'RxnRate_EQ078                           ', 'GIGCchem',\n",
      "'RxnRate_EQ079                           ', 'GIGCchem',\n",
      "'RxnRate_EQ083                           ', 'GIGCchem',\n",
      "'RxnRate_EQ084                           ', 'GIGCchem',\n",
      "'RxnRate_EQ085                           ', 'GIGCchem',\n",
      "'RxnRate_EQ101                           ', 'GIGCchem',\n",
      "'RxnRate_EQ102                           ', 'GIGCchem',\n",
      "'RxnRate_EQ103                           ', 'GIGCchem',\n",
      "'RxnRate_EQ104                           ', 'GIGCchem',\n",
      "'RxnRate_EQ105                           ', 'GIGCchem',\n",
      "'RxnRate_EQ106                           ', 'GIGCchem',\n",
      "'RxnRate_EQ107                           ', 'GIGCchem',\n",
      "'RxnRate_EQ108                           ', 'GIGCchem',\n",
      "'RxnRate_EQ109                           ', 'GIGCchem',\n",
      "'RxnRate_EQ111                           ', 'GIGCchem',\n",
      "'RxnRate_EQ112                           ', 'GIGCchem',\n",
      "'RxnRate_EQ113                           ', 'GIGCchem',\n",
      "'RxnRate_EQ115                           ', 'GIGCchem',\n",
      "'RxnRate_EQ116                           ', 'GIGCchem',\n",
      "'RxnRate_EQ118                           ', 'GIGCchem',\n",
      "'RxnRate_EQ119                           ', 'GIGCchem',\n",
      "'RxnRate_EQEQN_NAMES_4                            ', 'GIGCchem',\n",
      "'RxnRate_EQ121                           ', 'GIGCchem',\n",
      "'RxnRate_EQ122                           ', 'GIGCchem',\n",
      "'RxnRate_EQ123                           ', 'GIGCchem',\n",
      "'RxnRate_EQ124                           ', 'GIGCchem',\n",
      "'RxnRate_EQ125                           ', 'GIGCchem',\n",
      "'RxnRate_EQ126                           ', 'GIGCchem',\n",
      "'RxnRate_EQ128                           ', 'GIGCchem',\n",
      "'RxnRate_EQ129                           ', 'GIGCchem',\n",
      "'RxnRate_EQ130                           ', 'GIGCchem',\n",
      "'RxnRate_EQ133                           ', 'GIGCchem',\n",
      "'RxnRate_EQ134                           ', 'GIGCchem',\n",
      "'RxnRate_EQ135                           ', 'GIGCchem',\n",
      "'RxnRate_EQ136                           ', 'GIGCchem',\n",
      "'RxnRate_EQ137                           ', 'GIGCchem',\n",
      "'RxnRate_EQ138                           ', 'GIGCchem',\n",
      "'RxnRate_EQ139                           ', 'GIGCchem',\n",
      "'RxnRate_EQ140                           ', 'GIGCchem',\n",
      "'RxnRate_EQ195                           ', 'GIGCchem',\n",
      "'RxnRate_EQ205                           ', 'GIGCchem',\n",
      "'RxnRate_EQ206                           ', 'GIGCchem',\n",
      "'RxnRate_EQ207                           ', 'GIGCchem',\n",
      "'RxnRate_EQ364                           ', 'GIGCchem',\n",
      "'RxnRate_EQ368                           ', 'GIGCchem',\n",
      "'RxnRate_EQ370                           ', 'GIGCchem',\n",
      "'RxnRate_EQ381                           ', 'GIGCchem',\n",
      "'RxnRate_EQ385                           ', 'GIGCchem',\n",
      "'RxnRate_EQ433                           ', 'GIGCchem',\n",
      "'RxnRate_EQ435                           ', 'GIGCchem',\n",
      "'RxnRate_EQ437                           ', 'GIGCchem',\n",
      "'RxnRate_EQ442                           ', 'GIGCchem',\n",
      "'RxnRate_EQ443                           ', 'GIGCchem',\n",
      "'RxnRate_EQ454                           ', 'GIGCchem',\n",
      "'RxnRate_EQ455                           ', 'GIGCchem',\n",
      "'RxnRate_EQ484                           ', 'GIGCchem',\n",
      "'RxnRate_EQ485                           ', 'GIGCchem',\n"
     ]
    }
   ],
   "source": [
    "for line in diag:\n",
    "    print(line)"
   ]
  },
  {
   "cell_type": "code",
   "execution_count": 7,
   "id": "f5ddc51e-1fc4-4733-bfdd-65e8498371d9",
   "metadata": {},
   "outputs": [
    {
     "name": "stdout",
     "output_type": "stream",
     "text": [
      "[' -2.000', ' -2.000', ' -2.000', ' -2.000', ' -2.000', ' -2.000', ' 0.000', ' -2.000', ' -2.000', ' -1.500', ' -2.000', ' -0.800', ' -1.200', ' -1.000', ' -1.000', ' -2.000', ' -2.000', ' -1.850', ' -1.850', ' -1.874', ' -1.218', ' -2.000', ' -2.000', ' -2.000', ' -2.000', ' -1.000', ' -1.000', ' -0.990', ' -1.350', ' -1.700', ' -1.500', ' -0.900', ' -1.000', ' -1.000', ' -1.360', ' -0.300', ' -1.000', ' -1.100', ' -1.500', ' 0.000', ' 0.000', ' -2.000', ' -2.000', ' -2.000', ' -2.000', ' -2.000', ' -2.000', ' -0.050', ' -0.600', ' 0.000', ' 0.000', ' -0.200', ' -1.000', ' -1.060', ' -1.700', ' -1.000', ' -2.000', ' -2.000', ' -2.000', ' -2.000', ' -1.000', ' -2.000', ' -1.000', ' -2.000', ' -2.000']\n"
     ]
    }
   ],
   "source": [
    "file = open(\"../data_output/Tropchem_ROx_self_rxn.txt\",\"r\")\n",
    "lines = file.readlines()\n",
    "radical_change_list = []\n",
    "for i in range(len(lines)):\n",
    "    line = lines[i]\n",
    "    _, num = line.split('-->')\n",
    "    num = num.split('\\n')[0]\n",
    "    radical_change_list.append(num)\n",
    "print(radical_change_list)"
   ]
  },
  {
   "cell_type": "code",
   "execution_count": 8,
   "id": "37ce0df5-cf7f-4505-8739-f4a5679a0afa",
   "metadata": {},
   "outputs": [
    {
     "data": {
      "text/plain": [
       "(65, 65)"
      ]
     },
     "execution_count": 8,
     "metadata": {},
     "output_type": "execute_result"
    }
   ],
   "source": [
    "len(ROx_eq_num), len(radical_change_list)"
   ]
  },
  {
   "cell_type": "markdown",
   "id": "772efbd3-8e00-42c8-a1ad-7e8ed052e1a5",
   "metadata": {},
   "source": [
    "### Printing of equation in gckpp_Monitor.F90 is not complete but the ranking of rxns is the same in gckpp_Monitor.F90 and Tropchem.eqn."
   ]
  },
  {
   "cell_type": "code",
   "execution_count": 9,
   "id": "eca0fe61-b5de-4776-9f4f-1e324b5b3e9a",
   "metadata": {},
   "outputs": [
    {
     "data": {
      "text/html": [
       "<div>\n",
       "<style scoped>\n",
       "    .dataframe tbody tr th:only-of-type {\n",
       "        vertical-align: middle;\n",
       "    }\n",
       "\n",
       "    .dataframe tbody tr th {\n",
       "        vertical-align: top;\n",
       "    }\n",
       "\n",
       "    .dataframe thead th {\n",
       "        text-align: right;\n",
       "    }\n",
       "</style>\n",
       "<table border=\"1\" class=\"dataframe\">\n",
       "  <thead>\n",
       "    <tr style=\"text-align: right;\">\n",
       "      <th></th>\n",
       "      <th>ROx_EQ_idx</th>\n",
       "      <th>radical_change</th>\n",
       "    </tr>\n",
       "  </thead>\n",
       "  <tbody>\n",
       "    <tr>\n",
       "      <th>0</th>\n",
       "      <td>RxnRate_EQ006</td>\n",
       "      <td>-2.000</td>\n",
       "    </tr>\n",
       "    <tr>\n",
       "      <th>1</th>\n",
       "      <td>RxnRate_EQ007</td>\n",
       "      <td>-2.000</td>\n",
       "    </tr>\n",
       "    <tr>\n",
       "      <th>2</th>\n",
       "      <td>RxnRate_EQ008</td>\n",
       "      <td>-2.000</td>\n",
       "    </tr>\n",
       "    <tr>\n",
       "      <th>3</th>\n",
       "      <td>RxnRate_EQ011</td>\n",
       "      <td>-2.000</td>\n",
       "    </tr>\n",
       "    <tr>\n",
       "      <th>4</th>\n",
       "      <td>RxnRate_EQ017</td>\n",
       "      <td>-2.000</td>\n",
       "    </tr>\n",
       "    <tr>\n",
       "      <th>...</th>\n",
       "      <td>...</td>\n",
       "      <td>...</td>\n",
       "    </tr>\n",
       "    <tr>\n",
       "      <th>60</th>\n",
       "      <td>RxnRate_EQ443</td>\n",
       "      <td>-1.000</td>\n",
       "    </tr>\n",
       "    <tr>\n",
       "      <th>61</th>\n",
       "      <td>RxnRate_EQ454</td>\n",
       "      <td>-2.000</td>\n",
       "    </tr>\n",
       "    <tr>\n",
       "      <th>62</th>\n",
       "      <td>RxnRate_EQ455</td>\n",
       "      <td>-1.000</td>\n",
       "    </tr>\n",
       "    <tr>\n",
       "      <th>63</th>\n",
       "      <td>RxnRate_EQ484</td>\n",
       "      <td>-2.000</td>\n",
       "    </tr>\n",
       "    <tr>\n",
       "      <th>64</th>\n",
       "      <td>RxnRate_EQ485</td>\n",
       "      <td>-2.000</td>\n",
       "    </tr>\n",
       "  </tbody>\n",
       "</table>\n",
       "<p>65 rows × 2 columns</p>\n",
       "</div>"
      ],
      "text/plain": [
       "       ROx_EQ_idx radical_change\n",
       "0   RxnRate_EQ006         -2.000\n",
       "1   RxnRate_EQ007         -2.000\n",
       "2   RxnRate_EQ008         -2.000\n",
       "3   RxnRate_EQ011         -2.000\n",
       "4   RxnRate_EQ017         -2.000\n",
       "..            ...            ...\n",
       "60  RxnRate_EQ443         -1.000\n",
       "61  RxnRate_EQ454         -2.000\n",
       "62  RxnRate_EQ455         -1.000\n",
       "63  RxnRate_EQ484         -2.000\n",
       "64  RxnRate_EQ485         -2.000\n",
       "\n",
       "[65 rows x 2 columns]"
      ]
     },
     "execution_count": 9,
     "metadata": {},
     "output_type": "execute_result"
    }
   ],
   "source": [
    "## Final rxn index and radical change\n",
    "ROx_EQidx_RadicalChange = pd.DataFrame({'ROx_EQ_idx': ROx_eq_num, 'radical_change': radical_change_list})\n",
    "ROx_EQidx_RadicalChange"
   ]
  },
  {
   "cell_type": "code",
   "execution_count": 10,
   "id": "e2f87e66-6061-4802-8e94-6d14fbbfc07e",
   "metadata": {},
   "outputs": [],
   "source": [
    "ROx_EQidx_RadicalChange.to_csv('../data_output/ROx_EQidx_RadicalChange.csv', index=False)"
   ]
  }
 ],
 "metadata": {
  "kernelspec": {
   "display_name": "Python 3 (ipykernel)",
   "language": "python",
   "name": "python3"
  },
  "language_info": {
   "codemirror_mode": {
    "name": "ipython",
    "version": 3
   },
   "file_extension": ".py",
   "mimetype": "text/x-python",
   "name": "python",
   "nbconvert_exporter": "python",
   "pygments_lexer": "ipython3",
   "version": "3.9.18"
  }
 },
 "nbformat": 4,
 "nbformat_minor": 5
}
